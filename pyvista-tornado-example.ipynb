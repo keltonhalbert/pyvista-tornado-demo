{
 "cells": [
  {
   "cell_type": "markdown",
   "metadata": {},
   "source": [
    "# Use PyVista to Visualize a Tornado Simulation\n",
    "\n",
    "Thanks for the script, [Bane!](https://twitter.com/banesullivan)!\n",
    "\n",
    "Requires:\n",
    "\n",
    "- `pyvista`, `netCDF4`, and `tqdm`\n",
    "- `vtk 8.2.0`\n",
    "- install `colorcet` for the `\"CET_D1A\"` colormap!\n",
    "- also uses `cmocean` for other colormaps\n",
    "\n",
    "To install, create an empty conda environment and install the following packages:\n",
    "```\n",
    "conda create -n pyvista python=3.7\n",
    "conda install -c conda-forge vtk=8.2.0 pyvista netCDF4 tqdm colorcet cmocean\n",
    "```"
   ]
  },
  {
   "cell_type": "code",
   "execution_count": 1,
   "metadata": {},
   "outputs": [],
   "source": [
    "import pyvista as pv\n",
    "import numpy as np\n",
    "import netCDF4 as nc\n",
    "import vtk, glob\n",
    "from tqdm import tqdm\n",
    "from colorcet import *\n",
    "import gc \n",
    "\n",
    "## This is required when using the volume render functionality.\n",
    "## Not necessary for 3D meshes or surfaces\n",
    "pv.rcParams[\"use_panel\"] = False"
   ]
  },
  {
   "cell_type": "markdown",
   "metadata": {},
   "source": [
    "# Environment Report for Reproducibilty"
   ]
  },
  {
   "cell_type": "code",
   "execution_count": 2,
   "metadata": {},
   "outputs": [
    {
     "data": {
      "text/html": [
       "<table style='border: 3px solid #ddd;'>\n",
       "  <tr>\n",
       "     <td style='text-align: center; font-weight: bold; font-size: 1.2em; border: 2px solid #fff;' colspan='6'>Mon Nov 04 22:33:48 2019 UTC</td>\n",
       "  </tr>\n",
       "  <tr>\n",
       "    <td style='text-align: right; background-color: #ccc; border: 2px solid #fff;'>Linux</td>\n",
       "    <td style='text-align: left; border: 2px solid #fff;'>OS</td>\n",
       "    <td style='text-align: right; background-color: #ccc; border: 2px solid #fff;'>8</td>\n",
       "    <td style='text-align: left; border: 2px solid #fff;'>CPU(s)</td>\n",
       "    <td style='text-align: right; background-color: #ccc; border: 2px solid #fff;'>x86_64</td>\n",
       "    <td style='text-align: left; border: 2px solid #fff;'>Machine</td>\n",
       "  </tr>\n",
       "  <tr>\n",
       "    <td style='text-align: right; background-color: #ccc; border: 2px solid #fff;'>64bit</td>\n",
       "    <td style='text-align: left; border: 2px solid #fff;'>Architecture</td>\n",
       "    <td style='text-align: right; background-color: #ccc; border: 2px solid #fff;'>Jupyter</td>\n",
       "    <td style='text-align: left; border: 2px solid #fff;'>Environment</td>\n",
       "  </tr>\n",
       "  <tr>\n",
       "     <td style='text-align: center; border: 2px solid #fff;' colspan='6'>Python 3.7.4 (default, Aug 13 2019, 20:35:49) \n",
       "[GCC 7.3.0]</td>\n",
       "  </tr>\n",
       "  <tr>\n",
       "    <td style='text-align: right; background-color: #ccc; border: 2px solid #fff;'>1.4.2</td>\n",
       "    <td style='text-align: left; border: 2px solid #fff;'>netCDF4</td>\n",
       "    <td style='text-align: right; background-color: #ccc; border: 2px solid #fff;'>4.36.1</td>\n",
       "    <td style='text-align: left; border: 2px solid #fff;'>tqdm</td>\n",
       "    <td style='text-align: right; background-color: #ccc; border: 2px solid #fff;'>0.22.4</td>\n",
       "    <td style='text-align: left; border: 2px solid #fff;'>pyvista</td>\n",
       "  </tr>\n",
       "  <tr>\n",
       "    <td style='text-align: right; background-color: #ccc; border: 2px solid #fff;'>8.2.0</td>\n",
       "    <td style='text-align: left; border: 2px solid #fff;'>vtk</td>\n",
       "    <td style='text-align: right; background-color: #ccc; border: 2px solid #fff;'>1.17.2</td>\n",
       "    <td style='text-align: left; border: 2px solid #fff;'>numpy</td>\n",
       "    <td style='text-align: right; background-color: #ccc; border: 2px solid #fff;'>2.6.1</td>\n",
       "    <td style='text-align: left; border: 2px solid #fff;'>imageio</td>\n",
       "  </tr>\n",
       "  <tr>\n",
       "    <td style='text-align: right; background-color: #ccc; border: 2px solid #fff;'>1.4.3</td>\n",
       "    <td style='text-align: left; border: 2px solid #fff;'>appdirs</td>\n",
       "    <td style='text-align: right; background-color: #ccc; border: 2px solid #fff;'>0.4.3</td>\n",
       "    <td style='text-align: left; border: 2px solid #fff;'>scooby</td>\n",
       "    <td style='text-align: right; background-color: #ccc; border: 2px solid #fff;'>3.1.1</td>\n",
       "    <td style='text-align: left; border: 2px solid #fff;'>matplotlib</td>\n",
       "  </tr>\n",
       "  <tr>\n",
       "    <td style='text-align: right; background-color: #ccc; border: 2px solid #fff;'>5.9.2</td>\n",
       "    <td style='text-align: left; border: 2px solid #fff;'>PyQt5</td>\n",
       "    <td style='text-align: right; background-color: #ccc; border: 2px solid #fff;'>7.8.0</td>\n",
       "    <td style='text-align: left; border: 2px solid #fff;'>IPython</td>\n",
       "    <td style='text-align: right; background-color: #ccc; border: 2px solid #fff;'>7.5.1</td>\n",
       "    <td style='text-align: left; border: 2px solid #fff;'>ipywidgets</td>\n",
       "  </tr>\n",
       "  <tr>\n",
       "    <td style='text-align: right; background-color: #ccc; border: 2px solid #fff;'>1.0.0</td>\n",
       "    <td style='text-align: left; border: 2px solid #fff;'>colorcet</td>\n",
       "    <td style='text-align: right; background-color: #ccc; border: 2px solid #fff;'>2.0</td>\n",
       "    <td style='text-align: left; border: 2px solid #fff;'>cmocean</td>\n",
       "    <td style= border: 2px solid #fff;'></td>\n",
       "    <td style= border: 2px solid #fff;'></td>\n",
       "  </tr>\n",
       "  <tr>\n",
       "     <td style='text-align: center; background-color: #ddd;border: 2px solid #fff;' colspan='6'>Intel(R) Math Kernel Library Version 2019.0.4 Product Build 20190411 for Intel(R) 64 architecture applications</td>\n",
       "  </tr>\n",
       "</table>"
      ],
      "text/plain": [
       "\n",
       "--------------------------------------------------------------------------------\n",
       "  Date: Mon Nov 04 22:33:48 2019 UTC\n",
       "\n",
       "             Linux : OS\n",
       "                 8 : CPU(s)\n",
       "            x86_64 : Machine\n",
       "             64bit : Architecture\n",
       "           Jupyter : Environment\n",
       "\n",
       "  Python 3.7.4 (default, Aug 13 2019, 20:35:49)  [GCC 7.3.0]\n",
       "\n",
       "             1.4.2 : netCDF4\n",
       "            4.36.1 : tqdm\n",
       "            0.22.4 : pyvista\n",
       "             8.2.0 : vtk\n",
       "            1.17.2 : numpy\n",
       "             2.6.1 : imageio\n",
       "             1.4.3 : appdirs\n",
       "             0.4.3 : scooby\n",
       "             3.1.1 : matplotlib\n",
       "             5.9.2 : PyQt5\n",
       "             7.8.0 : IPython\n",
       "             7.5.1 : ipywidgets\n",
       "             1.0.0 : colorcet\n",
       "               2.0 : cmocean\n",
       "\n",
       "  Intel(R) Math Kernel Library Version 2019.0.4 Product Build 20190411 for\n",
       "  Intel(R) 64 architecture applications\n",
       "--------------------------------------------------------------------------------"
      ]
     },
     "execution_count": 2,
     "metadata": {},
     "output_type": "execute_result"
    }
   ],
   "source": [
    "## Just some useful debugging info if you have any issues\n",
    "pv.Report([\"netCDF4\", \"tqdm\"])"
   ]
  },
  {
   "cell_type": "markdown",
   "metadata": {},
   "source": [
    "# Load the Data\n",
    "\n",
    "Here I load the data from the netCDF files and create PyVista meshed (VTK datasets)"
   ]
  },
  {
   "cell_type": "code",
   "execution_count": 3,
   "metadata": {},
   "outputs": [
    {
     "name": "stdout",
     "output_type": "stream",
     "text": [
      "odict_keys(['xpos', 'ypos', 'zpos', 'u', 'v', 'w', 'uturb', 'vturb', 'wturb', 'udiff', 'vdiff', 'wdiff', 'khh', 'xvort', 'yvort', 'zvort', 'xvorttilt', 'yvorttilt', 'zvorttilt', 'xvortstretch', 'yvortstretch', 'zvortstretch', 'xvortsolenoid', 'yvortsolenoid', 'zvortsolenoid', 'xvortbaro', 'yvortbaro', 'xvortturb', 'yvortturb', 'zvortturb', 'xvortdiff', 'yvortdiff', 'zvortdiff', 'prespert', 'thrhopert'])\n",
      "\n",
      "odict_keys(['xh', 'yh', 'zh', 'xf', 'yf', 'zf', 'time', 'X0', 'Y0', 'X1', 'Y1', 'Z0', 'Z1', 'thrhopert', 'vortmag', 'winterp', 'u0', 'v0', 'th0', 'pres0', 'pi0', 'qv0'])\n",
      "\n"
     ]
    }
   ],
   "source": [
    "## Read in the NetCDF with the parcels\n",
    "pc_ds = nc.Dataset(\"volume_and_parcels/30m_tkeparcels_small.nc\")\n",
    "print(pc_ds.variables.keys())\n",
    "print()\n",
    "\n",
    "## Read in the NetCDF with the volumetric model data\n",
    "model_ds = nc.Dataset(\"volume_and_parcels/30m_tke_small.04200.166600.nc\" )\n",
    "print(model_ds.variables.keys())\n",
    "print()"
   ]
  },
  {
   "cell_type": "markdown",
   "metadata": {},
   "source": [
    "## Handle the point cloud\n",
    "\n",
    "This is `pyvista.PolyData` (`vtkPolyData`).\n",
    "This is going to read in our position arrays for the parcels, and the array\n",
    "we want the lagrangian parcels to be colored by. In this case, the coloring\n",
    "is from `zvortstretch` and the position arrays are `xpos`, `ypos`, and `zpos`."
   ]
  },
  {
   "cell_type": "code",
   "execution_count": 4,
   "metadata": {},
   "outputs": [
    {
     "data": {
      "text/plain": [
       "(3000, 901)"
      ]
     },
     "execution_count": 4,
     "metadata": {},
     "output_type": "execute_result"
    }
   ],
   "source": [
    "## Spatial reference of the Lagrangian point cloud\n",
    "poskeys = [\"xpos\", \"ypos\", \"zpos\"]\n",
    "xt = pc_ds[poskeys[0]]\n",
    "yt = pc_ds[poskeys[1]]\n",
    "zt = pc_ds[poskeys[2]]\n",
    "\n",
    "## Array to color the Lagrangian point cloud by\n",
    "pc_array = \"zvortstretch\"\n",
    "var = pc_ds.variables[pc_array]\n",
    "## Get the min/max of the color array\n",
    "clim = [np.min(var), np.max(var)]\n",
    "\n",
    "npar, nt = xt.shape\n",
    "npar, nt"
   ]
  },
  {
   "cell_type": "markdown",
   "metadata": {},
   "source": [
    "## Time-varying Lagrangian particle trajectories\n",
    "\n",
    "This handles taking the Lagrangian particle trajectory position arrays and making them into a data structure that PyVista can readily render as a point cloud. Additionally, we define a function that tells PyVista how the data updates in time. "
   ]
  },
  {
   "cell_type": "code",
   "execution_count": 5,
   "metadata": {},
   "outputs": [],
   "source": [
    "## This function defines how our point cloud caries in time\n",
    "def update_pc(t):\n",
    "    \"\"\"Update the Lagrangian particle trajectory point cloud to a new time step.\"\"\"\n",
    "    # updates the point cloud inplace\n",
    "    pc.points[:] = np.c_[xt[:,t], yt[:,t], zt[:,t]]\n",
    "    pc[pc_array][:] = var[:,t]\n",
    "    return\n",
    "\n",
    "## Inititalize the point cloud\n",
    "pc = pv.PolyData(np.c_[xt[:,0], yt[:,0], zt[:,0]])\n",
    "pc[pc_array] = var[:,0]\n"
   ]
  },
  {
   "cell_type": "code",
   "execution_count": 6,
   "metadata": {},
   "outputs": [
    {
     "name": "stderr",
     "output_type": "stream",
     "text": [
      "100%|██████████| 3000/3000 [00:01<00:00, 2855.29it/s]\n"
     ]
    }
   ],
   "source": [
    "## Creates streamlines from the point cloud\n",
    "nodes = np.dstack((xt, yt, zt))\n",
    "streams = pv.MultiBlock()\n",
    "for index in tqdm(range(0, npar)):\n",
    "    tracer = pv.lines_from_points(nodes[index,:,:])\n",
    "    streams.append(tracer)\n",
    "    \n",
    "streams = streams.combine()\n",
    "streams[pc_array] = pc_ds[pc_array][:].ravel()"
   ]
  },
  {
   "cell_type": "markdown",
   "metadata": {},
   "source": [
    "## Handle the model grid\n",
    "|\n",
    "The netCDF file has a meshgrid saved (`pyvista.StructuredGrid`/`vtkStructuredGrid`) but it is way more efficeint to use image data (`pyvista.UniformGrid`/`vtkImageData`). Below, I have it set to create image data, but we can easily get away with this because our data is on a rectillinear mesh with isotropic grid spacing. Also this is mainly just to show you that there are several ways to make a mesh from these data.\n",
    "\n",
    "\n",
    "# WARNING: IF YOU ARE NOT USING A REGULAR MESH WITH ISOTROPIC SPACING, BE CAREFUL AND USE THE SLOWER MESH OR INTERPOLATE TO A REGULAR GRID.\n",
    "\n",
    "It's also worth noting that this grid is using the scalar mesh, and none of the staggered vector meshes (ie zf, yf, xf). If you are plotting a vector field, either a) interpolate to the scalar mesh or b) create multiple grids, which should be allowed."
   ]
  },
  {
   "cell_type": "code",
   "execution_count": 7,
   "metadata": {},
   "outputs": [
    {
     "name": "stdout",
     "output_type": "stream",
     "text": [
      "[-7103.1533, -100.0, -3285.0127, 900.0, 30.0, 4032.569]\n"
     ]
    }
   ],
   "source": [
    "## Get bounds of the entire simulation\n",
    "bounds = [np.min(xt), np.max(xt),\n",
    "          np.min(yt), np.max(yt),\n",
    "          np.min(zt), np.max(zt)]\n",
    "print(bounds)\n",
    "\n",
    "\n",
    "## Fetch data for the static model\n",
    "## - typically better to use image data if you can\n",
    "## - pyvista.UniformGrid wraps vtk.vtkImageData\n",
    "if False:\n",
    "    ## Create a structured grid - safer\n",
    "    x = model_ds[\"xh\"][:] * 1000\n",
    "    y = model_ds[\"yh\"][:] * 1000\n",
    "    z = model_ds[\"zh\"][:] * 1000\n",
    "    xx, yy, zz = np.meshgrid(x, y, z, indexing='ij')\n",
    "    grid = pv.StructuredGrid(xx, yy, zz)\n",
    "else:\n",
    "    ## Create image data - better optimized for viz\n",
    "    \n",
    "    ## grid units are in km, convert to m\n",
    "    ## to work with trajectories\n",
    "    x = model_ds[\"xh\"][:] * 1000\n",
    "    y = model_ds[\"yh\"][:] * 1000\n",
    "    z = model_ds[\"zh\"][:] * 1000\n",
    "    \n",
    "    ## Get the grid spacing\n",
    "    xs = np.around(np.unique(np.diff(x)).mean(), decimals=3)\n",
    "    ys = np.around(np.unique(np.diff(y)).mean(), decimals=3)\n",
    "    zs = np.around(np.unique(np.diff(z)).mean(), decimals=3)\n",
    "    ## If you have only 1 vertical level this freaks out... this\n",
    "    ## avoids said freakout. \n",
    "    if (np.isnan(zs)): zs = xs\n",
    "    grid = pv.UniformGrid()\n",
    "    grid.spacing = xs, ys, zs\n",
    "    grid.origin = np.min(x), np.min(y), np.min(z)\n",
    "    grid.dimensions = len(x), len(y), len(z)"
   ]
  },
  {
   "cell_type": "code",
   "execution_count": 8,
   "metadata": {},
   "outputs": [],
   "source": [
    "## Arrays used for plotting\n",
    "grid[\"winterp\"] = model_ds[\"winterp\"][:].ravel()\n",
    "grid[\"thrhopert\"] = model_ds[\"thrhopert\"][:].ravel()\n",
    "grid[\"vortmag\"] = model_ds[\"vortmag\"][:].ravel()"
   ]
  },
  {
   "cell_type": "markdown",
   "metadata": {},
   "source": [
    "# Filter Datasets\n",
    "\n",
    "Apply a contour and a slice to the model"
   ]
  },
  {
   "cell_type": "code",
   "execution_count": 9,
   "metadata": {},
   "outputs": [
    {
     "data": {
      "image/png": "[encoded data removed]",
      "text/plain": [
       "<PIL.Image.Image image mode=RGB size=1024x768 at 0x7F42C4302A10>"
      ]
     },
     "metadata": {},
     "output_type": "display_data"
    }
   ],
   "source": [
    "## Define how the volumetric fields update in time. \n",
    "def update_sf(t):\n",
    "    model_ds = nc.Dataset(files[t])\n",
    "    grid[\"thrhopert\"] = model_ds[\"thrhopert\"][:].ravel()\n",
    "    grid[\"winterp\"] = model_ds[\"winterp\"][:].ravel()\n",
    "    grid[\"vortmag\"] = model_ds[\"vortmag\"][:].ravel()\n",
    "\n",
    "\n",
    "## Slice the model at the ground surface\n",
    "og = grid.center\n",
    "og[-1] = 30 ## first scalar grid point is at 30 meters\n",
    "\n",
    "## Plot a horizontal slice of the surface buoyancy perturbation field.\n",
    "surface = grid.slice(\"z\", origin=og)\n",
    "surface.plot(scalars=\"thrhopert\", cmap=\"diff\", clim=[-8,8], orig=og)\n",
    "\n",
    "## Contour the updraft speeds\n",
    "##  - this might take a sec\n",
    "isosurf = grid.contour([30, 40, 50], scalars=\"winterp\") ## 3 specific contour levels in m/s"
   ]
  },
  {
   "cell_type": "markdown",
   "metadata": {},
   "source": [
    "# Plotting!\n",
    "\n",
    "This is the fun part!"
   ]
  },
  {
   "cell_type": "markdown",
   "metadata": {},
   "source": [
    "## Static Scene 1\n",
    "\n",
    "Lots of contours all with opacity to mimic volume rendering"
   ]
  },
  {
   "cell_type": "code",
   "execution_count": 10,
   "metadata": {},
   "outputs": [],
   "source": [
    "## Note the custom opacity ramp\n",
    "## - this is used for the streamlines to mask parts of the\n",
    "## line we don't care about\n",
    "ramp = [0.0,0.0,0.0, 0.0, 0.07, 0.5, 0.75, 1.]"
   ]
  },
  {
   "cell_type": "code",
   "execution_count": 21,
   "metadata": {},
   "outputs": [
    {
     "data": {
      "text/plain": [
       "69"
      ]
     },
     "execution_count": 21,
     "metadata": {},
     "output_type": "execute_result"
    }
   ],
   "source": [
    "## Create the render engine. Here we can set the window size, multisampling,\n",
    "## and whether or not we're in a notebook. Setting notebook=True will display\n",
    "## the resulting image in the notebook and it will not be interactive. \n",
    "## Setting notebook=False will not display the image in the notebook, but\n",
    "## will open an interactive display.\n",
    "p = pv.Plotter(notebook=False,\n",
    "               window_size=[1920*2, 1080*2], \n",
    "               multi_samples=16)\n",
    "\n",
    "## Temporary hack to enable depth peeling. This helps the isosurface rendering look much\n",
    "## better when stacked in front of other semitransparent isosurfaces. This will likely be\n",
    "## added as an option in PyVista soon, but in the meantime, can manually be set through\n",
    "## the plotter class.\n",
    "\n",
    "# 1. Use a render window with alpha bits (as initial value is 0 (false)):\n",
    "p.ren_win.SetAlphaBitPlanes(True)\n",
    "\n",
    "# 2. Force to not pick a framebuffer with a multisample buffer\n",
    "# (as initial value is 4):\n",
    "p.ren_win.SetMultiSamples(0)\n",
    "\n",
    "# 3. Choose to use depth peeling (if supported) (initial value is 0 (false)):\n",
    "p.renderer.SetUseDepthPeeling(True)\n",
    "\n",
    "# 4. Set depth peeling parameters\n",
    "#  - Set the maximum number of rendering passes (initial value is 4):\n",
    "p.renderer.SetMaximumNumberOfPeels(4)\n",
    "#  - Set the occlusion ratio (initial value is 0.0, exact image):\n",
    "p.renderer.SetOcclusionRatio(0.0)\n",
    "\n",
    "\n",
    "\n",
    "\n",
    "\n",
    "## Add our Lagrangian parcel streamlines to the render engine. \n",
    "## We specify the color range of zvortstretch with clim, and\n",
    "## use teh custom ramp as the opacity argument. This will make\n",
    "## streamlines with no vrtoex stretching transparent. \n",
    "p.add_mesh(streams, clim=[-1e-3, 1e-3], \n",
    "            opacity=ramp,\n",
    "            cmap=\"CET_D1A\")\n",
    "\n",
    "## Add the 3 updraft isosurfaces to the scene. \n",
    "p.add_mesh(isosurf, scalar=\"winterp\", cmap=\"bone\", opacity=0.5, clim=[30,50])\n",
    "\n",
    "## Add the buoyancy field underneath everything. \n",
    "p.add_mesh(surface, scalars=\"thrhopert\", cmap=\"diff\", clim=[-8,8])\n",
    "\n",
    "## Set the camera position and orientation.\n",
    "p.camera_position = [(4000., -11000., 5000.),\n",
    "                     (-5000, -1000., 1000.),\n",
    "                     (0, 0, 1)]\n",
    "p.show_grid()\n",
    "\n",
    "## Save a screenshot!\n",
    "p.screenshot(\"example1-1.png\")\n",
    "p.show()\n",
    "\n",
    "\n",
    "pv.close_all()\n",
    "gc.collect()\n"
   ]
  },
  {
   "cell_type": "markdown",
   "metadata": {},
   "source": [
    "## Scene 2\n",
    "\n",
    "This one opens in an interactive window!"
   ]
  },
  {
   "cell_type": "code",
   "execution_count": 23,
   "metadata": {},
   "outputs": [
    {
     "data": {
      "text/plain": [
       "True"
      ]
     },
     "execution_count": 23,
     "metadata": {},
     "output_type": "execute_result"
    }
   ],
   "source": [
    "p = pv.Plotter(notebook=False,\n",
    "               window_size=[1920, 1080], \n",
    "               multi_samples=16)\n",
    "\n",
    "\n",
    "# Add three isosurfaces from the model\n",
    "grid.set_active_scalar(\"vortmag\")\n",
    "p.add_volume(grid, scalars=\"vortmag\", clim=[-6, 10], cmap=\"diff\", opacity=\"sigmoid_6\", mapper=\"gpu\")\n",
    "\n",
    "# Add the ground surface data\n",
    "p.add_mesh(surface, scalars=\"thrhopert\", cmap=\"diff\", clim=[-8,8], mapper=\"gpu\")\n",
    "\n",
    "\n",
    "# Note the custom opacity ramp\n",
    "p.add_mesh(streams, clim=[-1e-3, 1e-3], opacity=ramp, cmap=\"CET_D1A\", mapper=\"gpu\")\n",
    "\n",
    "p.camera_position = [(4000., -11000., 5000.),\n",
    "                     (-5000, -1000., 1000.),\n",
    "                     (0, 0, 1)]\n",
    "p.show_grid()\n",
    "p.show()\n",
    "p.screenshot(\"example2.png\")\n",
    "pv.close_all()"
   ]
  },
  {
   "cell_type": "markdown",
   "metadata": {},
   "source": [
    "## Dynamic Scene\n",
    "\n",
    "This is some example code to show how animations would work, animating only the parcels"
   ]
  },
  {
   "cell_type": "code",
   "execution_count": null,
   "metadata": {},
   "outputs": [],
   "source": [
    "# initialize the point cloud\n",
    "update_pc(0)\n",
    "\n",
    "## Create our render engine\n",
    "p = pv.Plotter(notebook=False, off_screen=True, \n",
    "               window_size=[1920*2, 1080*2], multi_samples=16)\n",
    "\n",
    "## Open up an MP4 with a 60 FPS framerate\n",
    "p.open_movie(\"parcel_movie.mp4\", framerate=60)\n",
    "\n",
    "\n",
    "## Add bounds to make sure the camera doesnt get wacky\n",
    "p.add_mesh(pv.Box(bounds), opacity=0, style=\"wireframe\")\n",
    "\n",
    "## Add the point cloud in the scene\n",
    "p.add_mesh(pc, clim=[-1e-3, 1e-3], \n",
    "           opacity=1.0,\n",
    "           cmap=\"CET_D1A\")\n",
    "\n",
    "## Att the surface buoyancy\n",
    "p.add_mesh(surface, scalars=\"thrhopert\", cmap=\"diff\", clim=[-8,8])\n",
    "\n",
    "## Camera position\n",
    "p.camera_position = [(4000., -11000., 5000.),\n",
    "                     (-5000, -1000., 1000.),\n",
    "                     (0, 0, 1)]\n",
    "\n",
    "p.show(auto_close=False)\n",
    "\n",
    "## Run through each frame - since all of the parcels\n",
    "## are already read into memory at the start, this is\n",
    "## really fast. If you're opening a new file each time\n",
    "## step, it'll definitely slow down but isn't miserable\n",
    "p.write_frame()  ## write initial data\n",
    "for tstep in tqdm(np.arange(0, nt-1)):\n",
    "    update_pc(tstep)\n",
    "    ## Commented out the updating of the\n",
    "    ## surface slice because the data I \n",
    "    ## provided with the notebook only has\n",
    "    ## 1 time step in it\n",
    "    #update_sf(tstep)\n",
    "    p.write_frame()\n",
    "pv.close_all()"
   ]
  },
  {
   "cell_type": "code",
   "execution_count": null,
   "metadata": {},
   "outputs": [],
   "source": []
  }
 ],
 "metadata": {
  "kernelspec": {
   "display_name": "Python 3",
   "language": "python",
   "name": "python3"
  },
  "language_info": {
   "codemirror_mode": {
    "name": "ipython",
    "version": 3
   },
   "file_extension": ".py",
   "mimetype": "text/x-python",
   "name": "python",
   "nbconvert_exporter": "python",
   "pygments_lexer": "ipython3",
   "version": "3.7.4"
  },
  "varInspector": {
   "cols": {
    "lenName": 16,
    "lenType": 16,
    "lenVar": 40
   },
   "kernels_config": {
    "python": {
     "delete_cmd_postfix": "",
     "delete_cmd_prefix": "del ",
     "library": "var_list.py",
     "varRefreshCmd": "print(var_dic_list())"
    },
    "r": {
     "delete_cmd_postfix": ") ",
     "delete_cmd_prefix": "rm(",
     "library": "var_list.r",
     "varRefreshCmd": "cat(var_dic_list()) "
    }
   },
   "types_to_exclude": [
    "module",
    "function",
    "builtin_function_or_method",
    "instance",
    "_Feature"
   ],
   "window_display": false
  }
 },
 "nbformat": 4,
 "nbformat_minor": 2
}
